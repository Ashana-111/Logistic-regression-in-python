{
 "cells": [
  {
   "cell_type": "code",
   "execution_count": 27,
   "metadata": {},
   "outputs": [],
   "source": [
    "import pandas as pd\n",
    "import numpy as np\n",
    "import matplotlib.pyplot as plt\n",
    "import seaborn as sns"
   ]
  },
  {
   "cell_type": "code",
   "execution_count": 28,
   "metadata": {},
   "outputs": [
    {
     "data": {
      "text/html": [
       "<div>\n",
       "<style scoped>\n",
       "    .dataframe tbody tr th:only-of-type {\n",
       "        vertical-align: middle;\n",
       "    }\n",
       "\n",
       "    .dataframe tbody tr th {\n",
       "        vertical-align: top;\n",
       "    }\n",
       "\n",
       "    .dataframe thead th {\n",
       "        text-align: right;\n",
       "    }\n",
       "</style>\n",
       "<table border=\"1\" class=\"dataframe\">\n",
       "  <thead>\n",
       "    <tr style=\"text-align: right;\">\n",
       "      <th></th>\n",
       "      <th>Cash Compensation</th>\n",
       "      <th>Sales</th>\n",
       "      <th>No.of Employees</th>\n",
       "      <th>Capital Investment</th>\n",
       "      <th>Manufacturing</th>\n",
       "    </tr>\n",
       "  </thead>\n",
       "  <tbody>\n",
       "    <tr>\n",
       "      <td>0</td>\n",
       "      <td>212</td>\n",
       "      <td>32.0</td>\n",
       "      <td>248</td>\n",
       "      <td>10.5</td>\n",
       "      <td>1</td>\n",
       "    </tr>\n",
       "    <tr>\n",
       "      <td>1</td>\n",
       "      <td>226</td>\n",
       "      <td>27.2</td>\n",
       "      <td>156</td>\n",
       "      <td>3.8</td>\n",
       "      <td>0</td>\n",
       "    </tr>\n",
       "    <tr>\n",
       "      <td>2</td>\n",
       "      <td>237</td>\n",
       "      <td>49.5</td>\n",
       "      <td>348</td>\n",
       "      <td>14.6</td>\n",
       "      <td>1</td>\n",
       "    </tr>\n",
       "    <tr>\n",
       "      <td>3</td>\n",
       "      <td>239</td>\n",
       "      <td>34.0</td>\n",
       "      <td>196</td>\n",
       "      <td>5.0</td>\n",
       "      <td>0</td>\n",
       "    </tr>\n",
       "    <tr>\n",
       "      <td>4</td>\n",
       "      <td>242</td>\n",
       "      <td>52.8</td>\n",
       "      <td>371</td>\n",
       "      <td>15.9</td>\n",
       "      <td>1</td>\n",
       "    </tr>\n",
       "  </tbody>\n",
       "</table>\n",
       "</div>"
      ],
      "text/plain": [
       "   Cash Compensation  Sales  No.of Employees  Capital Investment  \\\n",
       "0                212   32.0              248                10.5   \n",
       "1                226   27.2              156                 3.8   \n",
       "2                237   49.5              348                14.6   \n",
       "3                239   34.0              196                 5.0   \n",
       "4                242   52.8              371                15.9   \n",
       "\n",
       "   Manufacturing  \n",
       "0              1  \n",
       "1              0  \n",
       "2              1  \n",
       "3              0  \n",
       "4              1  "
      ]
     },
     "execution_count": 28,
     "metadata": {},
     "output_type": "execute_result"
    }
   ],
   "source": [
    "data = pd.read_excel(\"C:\\\\Users\\\\ASUS\\\\Downloads\\\\Logistic Regression .xlsx\")\n",
    "data.head()"
   ]
  },
  {
   "cell_type": "code",
   "execution_count": 29,
   "metadata": {},
   "outputs": [
    {
     "name": "stdout",
     "output_type": "stream",
     "text": [
      "                    Cash Compensation     Sales  No.of Employees  \\\n",
      "Cash Compensation            1.000000  0.903011         0.722292   \n",
      "Sales                        0.903011  1.000000         0.891040   \n",
      "No.of Employees              0.722292  0.891040         1.000000   \n",
      "Capital Investment           0.850533  0.925308         0.923409   \n",
      "Manufacturing                0.090179  0.053149         0.171090   \n",
      "\n",
      "                    Capital Investment  Manufacturing  \n",
      "Cash Compensation             0.850533       0.090179  \n",
      "Sales                         0.925308       0.053149  \n",
      "No.of Employees               0.923409       0.171090  \n",
      "Capital Investment            1.000000       0.172671  \n",
      "Manufacturing                 0.172671       1.000000  \n"
     ]
    },
    {
     "data": {
      "text/plain": [
       "<AxesSubplot:>"
      ]
     },
     "execution_count": 29,
     "metadata": {},
     "output_type": "execute_result"
    },
    {
     "data": {
      "image/png": "[encoded data removed]",
      "text/plain": [
       "<Figure size 432x288 with 2 Axes>"
      ]
     },
     "metadata": {
      "needs_background": "light"
     },
     "output_type": "display_data"
    }
   ],
   "source": [
    "print(data.corr())\n",
    "sns.heatmap(data.corr())"
   ]
  },
  {
   "cell_type": "code",
   "execution_count": 31,
   "metadata": {},
   "outputs": [],
   "source": [
    "from sklearn import datasets, linear_model, metrics\n",
    "from sklearn.metrics import classification_report, confusion_matrix, r2_score,accuracy_score,precision_score,recall_score,f1_score\n",
    "from sklearn.ensemble import RandomForestRegressor\n",
    "import statsmodels.api as sm\n",
    "import seaborn as sns\n",
    "from sklearn.linear_model import LinearRegression\n",
    "from sklearn.linear_model import LogisticRegression\n",
    "from sklearn.model_selection import train_test_split\n"
   ]
  },
  {
   "cell_type": "code",
   "execution_count": 53,
   "metadata": {},
   "outputs": [
    {
     "name": "stdout",
     "output_type": "stream",
     "text": [
      "The R square using scikit is :  0.9835443899467593\n",
      "The intercept is :  216.64335070532852\n",
      "The coefficients of other variables are :  [ 1.63706324 -0.01992782 -3.27318315]\n",
      "The predicted values :  [-38.15380861 286.86700394 350.11176671 329.71918618 245.62463571\n",
      "  36.46240292]\n"
     ]
    }
   ],
   "source": [
    "#Multiple Linear Regression\n",
    "X=data.drop([\"Cash Compensation\",\"Manufacturing\"],axis=1).copy() # Define dependent and independent variable \n",
    "Y=data[\"Cash Compensation\"]\n",
    "lr = LinearRegression()\n",
    "X_train,X_test,Y_train,Y_test=train_test_split(X,Y,test_size=0.25,random_state=0) # Split data into training and test set (75:25)\n",
    "train=lr.fit(X_train,Y_train)\n",
    "pred=lr.predict(X_test)\n",
    "pred2=lr.predict(X_train)\n",
    "print(\"The R square using scikit is : \",r2_score(Y_train,pred2))#Accuracy\n",
    "print(\"The intercept is : \",lr.intercept_)\n",
    "print(\"The coefficients of other variables are : \",lr.coef_)\n",
    "print(\"The predicted values : \",pred)"
   ]
  },
  {
   "cell_type": "code",
   "execution_count": 56,
   "metadata": {},
   "outputs": [
    {
     "name": "stdout",
     "output_type": "stream",
     "text": [
      "                            OLS Regression Results                            \n",
      "==============================================================================\n",
      "Dep. Variable:      Cash Compensation   R-squared:                       0.984\n",
      "Model:                            OLS   Adj. R-squared:                  0.979\n",
      "Method:                 Least Squares   F-statistic:                     239.1\n",
      "Date:                Tue, 08 Sep 2020   Prob (F-statistic):           5.78e-11\n",
      "Time:                        22:54:22   Log-Likelihood:                -65.278\n",
      "No. Observations:                  16   AIC:                             138.6\n",
      "Df Residuals:                      12   BIC:                             141.6\n",
      "Df Model:                           3                                         \n",
      "Covariance Type:            nonrobust                                         \n",
      "======================================================================================\n",
      "                         coef    std err          t      P>|t|      [0.025      0.975]\n",
      "--------------------------------------------------------------------------------------\n",
      "const                216.6434      6.683     32.419      0.000     202.083     231.204\n",
      "Sales                  1.6371      0.318      5.145      0.000       0.944       2.330\n",
      "No.of Employees       -0.0199      0.037     -0.536      0.602      -0.101       0.061\n",
      "Capital Investment    -3.2732      0.501     -6.530      0.000      -4.365      -2.181\n",
      "==============================================================================\n",
      "Omnibus:                        5.126   Durbin-Watson:                   2.315\n",
      "Prob(Omnibus):                  0.077   Jarque-Bera (JB):                2.436\n",
      "Skew:                           0.770   Prob(JB):                        0.296\n",
      "Kurtosis:                       4.133   Cond. No.                     3.43e+03\n",
      "==============================================================================\n",
      "\n",
      "Notes:\n",
      "[1] Standard Errors assume that the covariance matrix of the errors is correctly specified.\n",
      "[2] The condition number is large, 3.43e+03. This might indicate that there are\n",
      "strong multicollinearity or other numerical problems.\n"
     ]
    },
    {
     "name": "stderr",
     "output_type": "stream",
     "text": [
      "C:\\Users\\ASUS\\Anaconda3\\lib\\site-packages\\numpy\\core\\fromnumeric.py:2389: FutureWarning: Method .ptp is deprecated and will be removed in a future version. Use numpy.ptp instead.\n",
      "  return ptp(axis=axis, out=out, **kwargs)\n",
      "C:\\Users\\ASUS\\Anaconda3\\lib\\site-packages\\scipy\\stats\\stats.py:1450: UserWarning: kurtosistest only valid for n>=20 ... continuing anyway, n=16\n",
      "  \"anyway, n=%i\" % int(n))\n"
     ]
    }
   ],
   "source": [
    "#Accuracy and model summary using OLS and statsmodel\n",
    "X_train=sm.add_constant(X_train)\n",
    "model=sm.OLS(Y_train,X_train)\n",
    "results=model.fit()\n",
    "print(results.summary())"
   ]
  },
  {
   "cell_type": "code",
   "execution_count": 34,
   "metadata": {},
   "outputs": [
    {
     "name": "stdout",
     "output_type": "stream",
     "text": [
      "The accuracy for train data :  0.9880122016186577\n",
      "The accuracy for test data :  0.24805400547455947\n"
     ]
    },
    {
     "name": "stderr",
     "output_type": "stream",
     "text": [
      "C:\\Users\\ASUS\\Anaconda3\\lib\\site-packages\\sklearn\\ensemble\\forest.py:245: FutureWarning: The default value of n_estimators will change from 10 in version 0.20 to 100 in 0.22.\n",
      "  \"10 in version 0.20 to 100 in 0.22.\", FutureWarning)\n"
     ]
    }
   ],
   "source": [
    "# RandomForest Regressor\n",
    "rf = RandomForestRegressor()\n",
    "X2_train,X2_test,Y2_train,Y2_test=train_test_split(X,Y,random_state=0)\n",
    "rf.fit(X2_train,Y2_train)\n",
    "tr_pred = rf.predict(X2_train)\n",
    "te_pred = rf.predict(X2_test)\n",
    "print(\"The accuracy for train data : \",r2_score(Y2_train,tr_pred))\n",
    "print(\"The accuracy for test data : \",r2_score(Y2_test,te_pred))"
   ]
  },
  {
   "cell_type": "code",
   "execution_count": 35,
   "metadata": {},
   "outputs": [
    {
     "name": "stderr",
     "output_type": "stream",
     "text": [
      "C:\\Users\\ASUS\\Anaconda3\\lib\\site-packages\\sklearn\\linear_model\\logistic.py:432: FutureWarning: Default solver will be changed to 'lbfgs' in 0.22. Specify a solver to silence this warning.\n",
      "  FutureWarning)\n"
     ]
    }
   ],
   "source": [
    "##Logistic Regression\n",
    "X=data.drop([\"Manufacturing\"],axis=1).copy() # Define dependent and independent variable \n",
    "Y=data[\"Manufacturing\"]\n",
    "lor = LogisticRegression()\n",
    "X_train,X_test,Y_train,Y_test=train_test_split(X,Y,test_size=0.25,random_state=0) # Split data into training and test set (75:25)\n",
    "train=lor.fit(X_train,Y_train)\n",
    "pred=lor.predict(X_test)"
   ]
  },
  {
   "cell_type": "code",
   "execution_count": 36,
   "metadata": {},
   "outputs": [
    {
     "name": "stdout",
     "output_type": "stream",
     "text": [
      "The intercept is :  [0.00616795]\n",
      "The coefficients of other variables are :  [[-0.00630993 -0.72888411  0.1132008   0.11502436]]\n"
     ]
    }
   ],
   "source": [
    "print(\"The intercept is : \",lor.intercept_)\n",
    "print(\"The coefficients of other variables are : \",lor.coef_)"
   ]
  },
  {
   "cell_type": "code",
   "execution_count": 37,
   "metadata": {},
   "outputs": [
    {
     "name": "stdout",
     "output_type": "stream",
     "text": [
      "The confusion matrix is : \n",
      " [[1 0]\n",
      " [1 4]]\n"
     ]
    }
   ],
   "source": [
    "# Define the confusion matrix for the model on testing data\n",
    "cm = confusion_matrix(Y_test, pred)\n",
    "print (\"The confusion matrix is : \\n\",cm)"
   ]
  },
  {
   "cell_type": "code",
   "execution_count": 38,
   "metadata": {},
   "outputs": [
    {
     "name": "stdout",
     "output_type": "stream",
     "text": [
      "Confusion Matrix : \n",
      " [[9 0]\n",
      " [0 7]]\n"
     ]
    },
    {
     "name": "stderr",
     "output_type": "stream",
     "text": [
      "C:\\Users\\ASUS\\Anaconda3\\lib\\site-packages\\ipykernel_launcher.py:6: UserWarning: FixedFormatter should only be used together with FixedLocator\n",
      "  \n"
     ]
    },
    {
     "data": {
      "text/plain": [
       "<AxesSubplot:title={'center':'Confusion Matrix'}>"
      ]
     },
     "execution_count": 38,
     "metadata": {},
     "output_type": "execute_result"
    },
    {
     "data": {
      "image/png": "[encoded data removed]",
      "text/plain": [
       "<Figure size 432x288 with 2 Axes>"
      ]
     },
     "metadata": {
      "needs_background": "light"
     },
     "output_type": "display_data"
    }
   ],
   "source": [
    "#Plotting confusion matrix for training data\n",
    "ax=plt.subplot()\n",
    "#labels titles ticks\n",
    "ax.set_xlabel('Predicted');ax.set_ylabel('Actuals') \n",
    "ax.set_title('Confusion Matrix')\n",
    "ax.xaxis.set_ticklabels(['0s', '1s']); ax.yaxis.set_ticklabels(['0s', '1s'])\n",
    "\n",
    "tr1_pred = lor.predict(X_train)\n",
    "cm1 = confusion_matrix(Y_train,tr1_pred)\n",
    "print(\"Confusion Matrix : \\n\",cm1)\n",
    "sns.heatmap(cm1,annot = True,ax=ax) #annot=True to annotate cells"
   ]
  },
  {
   "cell_type": "code",
   "execution_count": 39,
   "metadata": {},
   "outputs": [
    {
     "name": "stdout",
     "output_type": "stream",
     "text": [
      "              precision    recall  f1-score   support\n",
      "\n",
      "           0       0.50      1.00      0.67         1\n",
      "           1       1.00      0.80      0.89         5\n",
      "\n",
      "    accuracy                           0.83         6\n",
      "   macro avg       0.75      0.90      0.78         6\n",
      "weighted avg       0.92      0.83      0.85         6\n",
      "\n"
     ]
    }
   ],
   "source": [
    "#The classification table for testing data\n",
    "print(classification_report(Y_test, pred))"
   ]
  },
  {
   "cell_type": "code",
   "execution_count": 43,
   "metadata": {},
   "outputs": [
    {
     "name": "stdout",
     "output_type": "stream",
     "text": [
      "Accuracy for test data :  0.8333333333333334\n",
      "Precision for test data :  1.0\n",
      "Recall_score for test data :  0.8\n",
      "F1 score for test data :  0.888888888888889\n",
      "Accuracy :  1.0\n"
     ]
    },
    {
     "data": {
      "text/plain": [
       "array([[9.99376772e-01, 6.23227781e-04],\n",
       "       [0.00000000e+00, 1.00000000e+00],\n",
       "       [4.17794344e-03, 9.95822057e-01],\n",
       "       [1.23487398e-02, 9.87651260e-01],\n",
       "       [9.99949389e-01, 5.06112419e-05],\n",
       "       [2.14474697e-02, 9.78552530e-01],\n",
       "       [2.91933895e-02, 9.70806610e-01],\n",
       "       [9.78933829e-01, 2.10661714e-02],\n",
       "       [6.71684930e-13, 1.00000000e+00],\n",
       "       [9.94917444e-01, 5.08255642e-03],\n",
       "       [9.86948425e-01, 1.30515754e-02],\n",
       "       [9.97774253e-01, 2.22574731e-03],\n",
       "       [9.71292972e-01, 2.87070275e-02],\n",
       "       [9.70150408e-03, 9.90298496e-01],\n",
       "       [9.99941321e-01, 5.86793555e-05],\n",
       "       [9.99647144e-01, 3.52856038e-04]])"
      ]
     },
     "execution_count": 43,
     "metadata": {},
     "output_type": "execute_result"
    }
   ],
   "source": [
    "print (\"Accuracy for test data : \", accuracy_score(Y_test,pred)) #accuracy score\n",
    "print (\"Precision for test data : \", precision_score(Y_test,pred))\n",
    "print (\"Recall_score for test data : \", recall_score(Y_test,pred))\n",
    "print (\"F1 score for test data : \", f1_score(Y_test,pred))\n",
    "print (\"Accuracy : \", accuracy_score(Y_train,tr1_pred)) #accuracy score #comes to be 1 if train test as 80:2\n",
    "lor.predict_proba(X_train) #Predicting probabilities of the independent variables in the model - training data"
   ]
  },
  {
   "cell_type": "code",
   "execution_count": 23,
   "metadata": {},
   "outputs": [
    {
     "name": "stdout",
     "output_type": "stream",
     "text": [
      "                                 OLS Regression Results                                \n",
      "=======================================================================================\n",
      "Dep. Variable:          Manufacturing   R-squared (uncentered):                   0.862\n",
      "Model:                            OLS   Adj. R-squared (uncentered):              0.816\n",
      "Method:                 Least Squares   F-statistic:                              18.71\n",
      "Date:                Tue, 08 Sep 2020   Prob (F-statistic):                    4.29e-05\n",
      "Time:                        21:56:24   Log-Likelihood:                        -0.25523\n",
      "No. Observations:                  16   AIC:                                      8.510\n",
      "Df Residuals:                      12   BIC:                                      11.60\n",
      "Df Model:                           4                                                  \n",
      "Covariance Type:            nonrobust                                                  \n",
      "======================================================================================\n",
      "                         coef    std err          t      P>|t|      [0.025      0.975]\n",
      "--------------------------------------------------------------------------------------\n",
      "Cash Compensation      0.0030      0.001      5.754      0.000       0.002       0.004\n",
      "Sales                 -0.0369      0.006     -6.273      0.000      -0.050      -0.024\n",
      "No.of Employees        0.0038      0.001      5.898      0.000       0.002       0.005\n",
      "Capital Investment     0.0353      0.010      3.645      0.003       0.014       0.056\n",
      "==============================================================================\n",
      "Omnibus:                        4.721   Durbin-Watson:                   1.123\n",
      "Prob(Omnibus):                  0.094   Jarque-Bera (JB):                1.514\n",
      "Skew:                          -0.242   Prob(JB):                        0.469\n",
      "Kurtosis:                       1.573   Cond. No.                         324.\n",
      "==============================================================================\n",
      "\n",
      "Notes:\n",
      "[1] R² is computed without centering (uncentered) since the model does not contain a constant.\n",
      "[2] Standard Errors assume that the covariance matrix of the errors is correctly specified.\n"
     ]
    },
    {
     "name": "stderr",
     "output_type": "stream",
     "text": [
      "C:\\Users\\ASUS\\Anaconda3\\lib\\site-packages\\scipy\\stats\\stats.py:1450: UserWarning: kurtosistest only valid for n>=20 ... continuing anyway, n=16\n",
      "  \"anyway, n=%i\" % int(n))\n"
     ]
    }
   ],
   "source": [
    "#Using OLS tod etermine model fit and significance of dependent variables\n",
    "model=sm.OLS(Y_train,X_train)\n",
    "results=model.fit()\n",
    "print(results.summary())"
   ]
  },
  {
   "cell_type": "code",
   "execution_count": null,
   "metadata": {},
   "outputs": [],
   "source": []
  }
 ],
 "metadata": {
  "kernelspec": {
   "display_name": "Python 3",
   "language": "python",
   "name": "python3"
  },
  "language_info": {
   "codemirror_mode": {
    "name": "ipython",
    "version": 3
   },
   "file_extension": ".py",
   "mimetype": "text/x-python",
   "name": "python",
   "nbconvert_exporter": "python",
   "pygments_lexer": "ipython3",
   "version": "3.7.4"
  }
 },
 "nbformat": 4,
 "nbformat_minor": 2
}
